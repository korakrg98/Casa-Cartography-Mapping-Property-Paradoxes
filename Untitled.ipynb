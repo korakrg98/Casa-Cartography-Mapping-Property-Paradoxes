{
 "cells": [
  {
   "cell_type": "code",
   "execution_count": 1,
   "id": "d5f1ca47",
   "metadata": {},
   "outputs": [],
   "source": [
    "import numpy as np\n",
    "import pandas as pd"
   ]
  },
  {
   "cell_type": "code",
   "execution_count": 7,
   "id": "b5f44736",
   "metadata": {},
   "outputs": [],
   "source": [
    "from sklearn.model_selection import train_test_split"
   ]
  },
  {
   "cell_type": "code",
   "execution_count": 24,
   "id": "fdd1de93",
   "metadata": {},
   "outputs": [
    {
     "ename": "ModuleNotFoundError",
     "evalue": "No module named 'optuna'",
     "output_type": "error",
     "traceback": [
      "\u001b[1;31m---------------------------------------------------------------------------\u001b[0m",
      "\u001b[1;31mModuleNotFoundError\u001b[0m                       Traceback (most recent call last)",
      "\u001b[1;32m~\\AppData\\Local\\Temp\\ipykernel_11752\\1912864547.py\u001b[0m in \u001b[0;36m<module>\u001b[1;34m\u001b[0m\n\u001b[1;32m----> 1\u001b[1;33m \u001b[1;32mimport\u001b[0m \u001b[0moptuna\u001b[0m\u001b[1;33m.\u001b[0m\u001b[0mintegration\u001b[0m\u001b[1;33m.\u001b[0m\u001b[0mlightgbm\u001b[0m \u001b[1;32mas\u001b[0m \u001b[0mlgb\u001b[0m\u001b[1;33m\u001b[0m\u001b[1;33m\u001b[0m\u001b[0m\n\u001b[0m",
      "\u001b[1;31mModuleNotFoundError\u001b[0m: No module named 'optuna'"
     ]
    }
   ],
   "source": [
    "import optuna.integration.lightgbm as lgb"
   ]
  },
  {
   "cell_type": "code",
   "execution_count": 22,
   "id": "0e9cc6df",
   "metadata": {},
   "outputs": [],
   "source": [
    "from lightgbm import early_stopping"
   ]
  },
  {
   "cell_type": "code",
   "execution_count": 3,
   "id": "2c50c682",
   "metadata": {},
   "outputs": [
    {
     "data": {
      "text/html": [
       "<div>\n",
       "<style scoped>\n",
       "    .dataframe tbody tr th:only-of-type {\n",
       "        vertical-align: middle;\n",
       "    }\n",
       "\n",
       "    .dataframe tbody tr th {\n",
       "        vertical-align: top;\n",
       "    }\n",
       "\n",
       "    .dataframe thead th {\n",
       "        text-align: right;\n",
       "    }\n",
       "</style>\n",
       "<table border=\"1\" class=\"dataframe\">\n",
       "  <thead>\n",
       "    <tr style=\"text-align: right;\">\n",
       "      <th></th>\n",
       "      <th>property_type</th>\n",
       "      <th>sector</th>\n",
       "      <th>price</th>\n",
       "      <th>bedRoom</th>\n",
       "      <th>bathroom</th>\n",
       "      <th>balcony</th>\n",
       "      <th>agePossession</th>\n",
       "      <th>built_up_area</th>\n",
       "      <th>servant room</th>\n",
       "      <th>store room</th>\n",
       "      <th>furnishing_type</th>\n",
       "      <th>floor_category</th>\n",
       "    </tr>\n",
       "  </thead>\n",
       "  <tbody>\n",
       "    <tr>\n",
       "      <th>0</th>\n",
       "      <td>flat</td>\n",
       "      <td>sector 70</td>\n",
       "      <td>1.55</td>\n",
       "      <td>3</td>\n",
       "      <td>3</td>\n",
       "      <td>3</td>\n",
       "      <td>Relatively New</td>\n",
       "      <td>1527.0</td>\n",
       "      <td>1</td>\n",
       "      <td>0</td>\n",
       "      <td>unfurnished</td>\n",
       "      <td>Mid Floor</td>\n",
       "    </tr>\n",
       "    <tr>\n",
       "      <th>1</th>\n",
       "      <td>flat</td>\n",
       "      <td>sector 79</td>\n",
       "      <td>0.71</td>\n",
       "      <td>2</td>\n",
       "      <td>2</td>\n",
       "      <td>3+</td>\n",
       "      <td>New Property</td>\n",
       "      <td>1280.0</td>\n",
       "      <td>0</td>\n",
       "      <td>0</td>\n",
       "      <td>unfurnished</td>\n",
       "      <td>High Floor</td>\n",
       "    </tr>\n",
       "    <tr>\n",
       "      <th>2</th>\n",
       "      <td>flat</td>\n",
       "      <td>sector 90</td>\n",
       "      <td>1.25</td>\n",
       "      <td>3</td>\n",
       "      <td>4</td>\n",
       "      <td>3+</td>\n",
       "      <td>Old Property</td>\n",
       "      <td>1608.0</td>\n",
       "      <td>1</td>\n",
       "      <td>0</td>\n",
       "      <td>furnished</td>\n",
       "      <td>Low Floor</td>\n",
       "    </tr>\n",
       "    <tr>\n",
       "      <th>3</th>\n",
       "      <td>flat</td>\n",
       "      <td>sector 71</td>\n",
       "      <td>0.95</td>\n",
       "      <td>2</td>\n",
       "      <td>2</td>\n",
       "      <td>2</td>\n",
       "      <td>Moderately Old</td>\n",
       "      <td>1084.0</td>\n",
       "      <td>0</td>\n",
       "      <td>0</td>\n",
       "      <td>semifurnished</td>\n",
       "      <td>Mid Floor</td>\n",
       "    </tr>\n",
       "    <tr>\n",
       "      <th>4</th>\n",
       "      <td>flat</td>\n",
       "      <td>sector 66</td>\n",
       "      <td>3.20</td>\n",
       "      <td>3</td>\n",
       "      <td>3</td>\n",
       "      <td>3</td>\n",
       "      <td>Relatively New</td>\n",
       "      <td>1800.0</td>\n",
       "      <td>1</td>\n",
       "      <td>1</td>\n",
       "      <td>unfurnished</td>\n",
       "      <td>High Floor</td>\n",
       "    </tr>\n",
       "  </tbody>\n",
       "</table>\n",
       "</div>"
      ],
      "text/plain": [
       "  property_type     sector  price  bedRoom  bathroom balcony   agePossession  \\\n",
       "0          flat  sector 70   1.55        3         3       3  Relatively New   \n",
       "1          flat  sector 79   0.71        2         2      3+    New Property   \n",
       "2          flat  sector 90   1.25        3         4      3+    Old Property   \n",
       "3          flat  sector 71   0.95        2         2       2  Moderately Old   \n",
       "4          flat  sector 66   3.20        3         3       3  Relatively New   \n",
       "\n",
       "   built_up_area  servant room  store room furnishing_type floor_category  \n",
       "0         1527.0             1           0     unfurnished      Mid Floor  \n",
       "1         1280.0             0           0     unfurnished     High Floor  \n",
       "2         1608.0             1           0       furnished      Low Floor  \n",
       "3         1084.0             0           0   semifurnished      Mid Floor  \n",
       "4         1800.0             1           1     unfurnished     High Floor  "
      ]
     },
     "execution_count": 3,
     "metadata": {},
     "output_type": "execute_result"
    }
   ],
   "source": [
    "df = pd.read_csv('df.csv')\n",
    "df.head()"
   ]
  },
  {
   "cell_type": "code",
   "execution_count": 5,
   "id": "08e9bf12",
   "metadata": {},
   "outputs": [],
   "source": [
    "X = df.drop(columns=['price'])\n",
    "y = df['price']\n",
    "# Applying the log1p transformation to the target variable\n",
    "y_transformed = np.log1p(y)"
   ]
  },
  {
   "cell_type": "code",
   "execution_count": 8,
   "id": "0c760e9f",
   "metadata": {},
   "outputs": [],
   "source": [
    "X_train, X_test, y_train, y_test = train_test_split(X,y_transformed,test_size=0.2,random_state=42)"
   ]
  },
  {
   "cell_type": "code",
   "execution_count": 10,
   "id": "c6a91a58",
   "metadata": {},
   "outputs": [],
   "source": [
    "hyper_params = {\n",
    "    'task': 'train',\n",
    "    'boosting_type': 'gbdt',\n",
    "    'objective': 'regression',\n",
    "    'metric': ['l1','l2'],\n",
    "    'learning_rate': 0.005,\n",
    "    'feature_fraction': 0.9,\n",
    "    'bagging_fraction': 0.7,\n",
    "    'bagging_freq': 10,\n",
    "    'verbose': 0,\n",
    "    \"max_depth\": 8,\n",
    "    \"num_leaves\": 128,  \n",
    "    \"max_bin\": 512,\n",
    "    \"num_iterations\": 100000\n",
    "}"
   ]
  },
  {
   "cell_type": "code",
   "execution_count": 11,
   "id": "80a2fd3a",
   "metadata": {},
   "outputs": [],
   "source": [
    "gbm = lgb.LGBMRegressor(**hyper_params)"
   ]
  },
  {
   "cell_type": "code",
   "execution_count": 23,
   "id": "ab275447",
   "metadata": {},
   "outputs": [
    {
     "ename": "TypeError",
     "evalue": "fit() got an unexpected keyword argument 'early_stopping_rounds'",
     "output_type": "error",
     "traceback": [
      "\u001b[1;31m---------------------------------------------------------------------------\u001b[0m",
      "\u001b[1;31mTypeError\u001b[0m                                 Traceback (most recent call last)",
      "\u001b[1;32m~\\AppData\\Local\\Temp\\ipykernel_11752\\126536611.py\u001b[0m in \u001b[0;36m<module>\u001b[1;34m\u001b[0m\n\u001b[1;32m----> 1\u001b[1;33m gbm.fit(X_train, y_train,\n\u001b[0m\u001b[0;32m      2\u001b[0m         \u001b[0meval_set\u001b[0m\u001b[1;33m=\u001b[0m\u001b[1;33m[\u001b[0m\u001b[1;33m(\u001b[0m\u001b[0mX_test\u001b[0m\u001b[1;33m,\u001b[0m \u001b[0my_test\u001b[0m\u001b[1;33m)\u001b[0m\u001b[1;33m]\u001b[0m\u001b[1;33m,\u001b[0m\u001b[1;33m\u001b[0m\u001b[1;33m\u001b[0m\u001b[0m\n\u001b[0;32m      3\u001b[0m         \u001b[0meval_metric\u001b[0m\u001b[1;33m=\u001b[0m\u001b[1;34m'l1'\u001b[0m\u001b[1;33m,\u001b[0m\u001b[1;33m\u001b[0m\u001b[1;33m\u001b[0m\u001b[0m\n\u001b[0;32m      4\u001b[0m         early_stopping_rounds=1000)\n",
      "\u001b[1;31mTypeError\u001b[0m: fit() got an unexpected keyword argument 'early_stopping_rounds'"
     ]
    }
   ],
   "source": [
    "gbm.fit(X_train, y_train,\n",
    "        eval_set=[(X_test, y_test)],\n",
    "        eval_metric='l1',\n",
    "        early_stopping_rounds=1000)"
   ]
  },
  {
   "cell_type": "code",
   "execution_count": 20,
   "id": "775c634c",
   "metadata": {},
   "outputs": [],
   "source": [
    "from sklearn.ensemble import GradientBoostingRegressor"
   ]
  },
  {
   "cell_type": "code",
   "execution_count": null,
   "id": "090e6452",
   "metadata": {},
   "outputs": [],
   "source": []
  }
 ],
 "metadata": {
  "kernelspec": {
   "display_name": "Python 3 (ipykernel)",
   "language": "python",
   "name": "python3"
  },
  "language_info": {
   "codemirror_mode": {
    "name": "ipython",
    "version": 3
   },
   "file_extension": ".py",
   "mimetype": "text/x-python",
   "name": "python",
   "nbconvert_exporter": "python",
   "pygments_lexer": "ipython3",
   "version": "3.9.13"
  }
 },
 "nbformat": 4,
 "nbformat_minor": 5
}
